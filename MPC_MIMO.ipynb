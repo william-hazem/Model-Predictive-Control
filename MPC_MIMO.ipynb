{
 "cells": [
  {
   "cell_type": "markdown",
   "metadata": {},
   "source": [
    "# Controle Multivariável de Processos\n",
    "\n",
    "### Professor: Pericles Rezende Barros\n",
    "\n",
    "### Aluno: William Henrique Azevedo Martins"
   ]
  },
  {
   "cell_type": "markdown",
   "metadata": {},
   "source": [
    "### Notações                 \n",
    "- $k$: indice de amostra/tempo\n",
    "- $u$: variável manipulada\n",
    "- $y$: saída do processo\n",
    "- $x$: váriavel de estado\n",
    "- $[\\cdot]^T$: Matrix transposta\n",
    "- $A_m$/$x_m$: Denota sistema/variável em tempo discreto\n",
    "- $A, B, C$: Matrizes do sistema expandido"
   ]
  },
  {
   "cell_type": "code",
   "execution_count": 6,
   "metadata": {},
   "outputs": [],
   "source": [
    "from numpy import *\n",
    "import numpy as np\n",
    "from mpc import discretize_system\n",
    "from matplotlib.pyplot import plot, xlabel, ylabel, title, tight_layout, legend, xticks, yticks, figure, subplot, step, suptitle\n",
    "from IPython.display import display, Markdown\n",
    "\n",
    "def print_matrix(name, M):\n",
    "    \"\"\"Exibe uma matriz formatada em Markdown no Google Colab.\"\"\"\n",
    "    M_str = \"\\n\".join([\" | \".join([f\"{val:.4f}\" for val in row]) for row in M])\n",
    "    display(Markdown(f\"**{name}:**\\n\\n```\\n{M_str}\\n```\"))"
   ]
  },
  {
   "cell_type": "markdown",
   "metadata": {},
   "source": [
    "# Lecture 8A - Modelo MIMO\n",
    "\n",
    "Assumindo que um sistema têm $m$ entradas, $q$ saídas e $n_1$ estados. E que o número de saídas é inferior ou igual ao número de entradas ($q \\leq m$).\n",
    "\n",
    "Seja a representação do sistema em espaço de estados\n",
    "\\begin{align*}\n",
    "  x_m(k+1) & = A_mx_m(k) + B_mu(k) \\\\\n",
    "  y(k)     & =C_mx_m(k)\n",
    "\\end{align*}\n",
    "\n",
    "de modo que os incrementos dos estados no instante $k$ é da forma\n",
    "\n",
    "\\begin{align*}\n",
    "    \\Delta x_m(k + 1) &= x_m(k + 1) - x_m(k) \\\\\n",
    "    &= A_m (x_m(k) - x_m(k - 1)) + B_m (u(k) - u(k-1)) \\\\ \n",
    "    &= A_m \\Delta x_m(k) + B_m \\Delta u(k)\n",
    "\\end{align*}\n",
    "\n",
    "O novo vetor de estados expandido é\n",
    "\n",
    "\\begin{align*}\n",
    "    x(k) = \\begin{bmatrix} \n",
    "        \\Delta x_m(k)^T y(k)^T\n",
    "    \\end{bmatrix}^T\n",
    "\\end{align*}\n",
    "\n",
    "que forma uma matriz linha com $n_1 + q$ elementos\n",
    "\n",
    "\\begin{align*}\n",
    "  x(k) = \\begin{bmatrix} \\Delta x_m(k+1)^T & y(k) \\end{bmatrix}^T\n",
    "\\end{align*}\n",
    "\n",
    "Daí, a forma expandida do sistema em espaço de estados é\n",
    "\\begin{align*}\n",
    "    \\begin{bmatrix} \\Delta x_m(k+1) \\\\ y(k+1) \\end{bmatrix}\n",
    "    &= \\begin{bmatrix} A_m & o_m^T \\\\ C_mA_m & I_{q \\times q} \\end{bmatrix}\n",
    "    \\begin{bmatrix} \\Delta x_m(k) \\\\ y(k) \\end{bmatrix}\n",
    "    +\n",
    "    \\begin{bmatrix}\n",
    "    B_m \\\\ C_mB_m    \n",
    "    \\end{bmatrix} \\Delta u(k)\n",
    "    \\\\\n",
    "    y(k) &= \\begin{bmatrix} o_m^T & I_{q \\times q}\\end{bmatrix} \\begin{bmatrix} \\Delta x_m(k) \\\\ y(k) \\end{bmatrix}\n",
    "\\end{align*}"
   ]
  },
  {
   "cell_type": "markdown",
   "metadata": {},
   "source": [
    "n sei"
   ]
  },
  {
   "cell_type": "markdown",
   "metadata": {},
   "source": [
    "## Exemplo: Sistema de Tanque Duplo\n",
    "\n",
    "O sistema de tanque duplo é um modelo clássico em engenharia de controle, utilizado para representar sistemas com dinâmica de acumulação de fluido e interação entre compartimentos. Esse modelo é amplamente aplicado para o estudo de sistemas dinâmicos e técnicas de controle.\n",
    "\n",
    "### Descrição do Sistema\n",
    "O sistema consiste em dois tanques interconectados, onde o fluido entra nos tanques através de bombas e escoa entre eles por meio de uma válvula de acoplamento. Cada tanque possui um comportamento dinâmico que pode ser descrito por equações diferenciais.\n",
    "\n",
    "### Variáveis do Sistema\n",
    "- **h₁**: Nível do fluido no tanque 1.\n",
    "- **h₂**: Nível do fluido no tanque 2.\n",
    "- **q₁**: Vazão de entrada no tanque 1.\n",
    "- **q₂**: Vazão de entrada no tanque 2.\n",
    "- **K₁, K₂**: Ganhos das bombas.\n",
    "- **T₁, T₂**: Constantes de tempo dos tanques.\n",
    "- **K₁₂**: Coeficiente de acoplamento entre os tanques.\n",
    "\n",
    "### Representação em Espaço de Estado\n",
    "O modelo pode ser representado no formato de espaço de estado da seguinte forma:\n",
    "\n",
    "\\begin{equation}\n",
    "\\begin{bmatrix}\n",
    "\\dot{h_1} \\\\\n",
    "\\dot{h_2}\n",
    "\\end{bmatrix} =\n",
    "\\begin{bmatrix}\n",
    "-\\frac{1}{T_1} & \\frac{K_{12}}{T_1} \\\\\n",
    "\\frac{K_{12}}{T_2} & -\\frac{1}{T_2}\n",
    "\\end{bmatrix}\n",
    "\\begin{bmatrix}\n",
    " h_1 \\\\\n",
    " h_2\n",
    "\\end{bmatrix} +\n",
    "\\begin{bmatrix}\n",
    "\\frac{K_1}{T_1} & 0 \\\\\n",
    "0 & \\frac{K_2}{T_2}\n",
    "\\end{bmatrix}\n",
    "\\begin{bmatrix}\n",
    " q_1 \\\\\n",
    " q_2\n",
    "\\end{bmatrix}\n",
    "\\end{equation}\n",
    "\n",
    "A saída do sistema pode ser definida como:\n",
    "\n",
    "\\begin{equation}\n",
    "\\begin{bmatrix}\n",
    " h_1 \\\\\n",
    " h_2\n",
    "\\end{bmatrix} =\n",
    "I\n",
    "\\begin{bmatrix}\n",
    " h_1 \\\\\n",
    " h_2\n",
    "\\end{bmatrix} +\n",
    "0\n",
    "\\begin{bmatrix}\n",
    " q_1 \\\\\n",
    " q_2\n",
    "\\end{bmatrix}\n",
    "\\end{equation}\n",
    "\n",
    "onde a matriz de saída é a identidade, pois estamos medindo diretamente os níveis dos tanques."
   ]
  },
  {
   "cell_type": "code",
   "execution_count": 7,
   "metadata": {},
   "outputs": [],
   "source": [
    "def system():\n",
    "    \"\"\" Retorna as matrizes de espaço de estado para o sistema de tanque duplo. \"\"\"\n",
    "    # Parâmetros físicos do sistema\n",
    "    T1 = 10.0   # Constante de tempo do tanque 1 (s)\n",
    "    T2 = 15.0   # Constante de tempo do tanque 2 (s)\n",
    "    K12 = 0.2   # Coeficiente de acoplamento entre os tanques\n",
    "    K1 = 1.0    # Ganho da bomba 1\n",
    "    K2 = 0.8    # Ganho da bomba 2\n",
    "\n",
    "    # Matrizes de espaço de estado\n",
    "    A = np.array([[-1/T1,  K12/T1],\n",
    "                  [K12/T2, -1/T2]])\n",
    "\n",
    "    B = np.array([[K1/T1,  0],\n",
    "                  [0,  K2/T2]])\n",
    "\n",
    "    C = np.eye(2)  # Medimos os níveis dos tanques diretamente\n",
    "    D = np.zeros((2,2))  # Sem contribuição direta das entradas nas saídas\n",
    "\n",
    "    return A, B, C, D\n",
    "\n",
    "Ac, Bc, Cc, Dc = system()\n",
    "Am, Bm, Cm = discretize_system(Ac, Bc, Cc, 1)"
   ]
  },
  {
   "cell_type": "markdown",
   "metadata": {},
   "source": [
    "Para um degrau na entrada 1 ($u_1 = 1$, $u_2 = 0$)"
   ]
  },
  {
   "cell_type": "code",
   "execution_count": 9,
   "metadata": {},
   "outputs": [
    {
     "data": {
      "image/png": "[encoded data removed]",
      "text/plain": [
       "<Figure size 1280x480 with 2 Axes>"
      ]
     },
     "metadata": {},
     "output_type": "display_data"
    }
   ],
   "source": [
    "def solve(sys, u = None, k_samples=100):\n",
    "    A, B, C = sys\n",
    "    if u is None:\n",
    "        u = np.ones((B.shape[1], 1))\n",
    "\n",
    "    xk = np.zeros((2, 1))\n",
    "    y = np.zeros((k_samples, C.shape[0], 1))\n",
    "\n",
    "    for k in range(k_samples):\n",
    "        # print((B @ u).shape)\n",
    "        y[k] = C @ xk\n",
    "        xk = A @ xk + B @ u\n",
    "    return y\n",
    "\n",
    "k_samples = 100\n",
    "t = arange(0, k_samples * 0.1, 0.1)\n",
    "u1 = array([[1, 0]]).T\n",
    "y_step1 = solve(sys=(Am, Bm, Cm), u=u1, k_samples=k_samples)\n",
    "\n",
    "# y1 = y[:,0]\n",
    "figure(figsize=(6.4 * 2, 4.8))\n",
    "subplot(1, 2, 1)\n",
    "step(t, y_step1[:,0])\n",
    "xlabel(\"Tempo [s]\"); ylabel(\"Nível [m]\");\n",
    "\n",
    "title(\"Tanque 1\")\n",
    "subplot(1, 2, 2)\n",
    "step(t, y_step1[:,1])\n",
    "title(\"Tanque 2\")\n",
    "xlabel(\"Tempo [s]\"); ylabel(\"Nível [m]\");\n",
    "suptitle(\"Simulação da resposta ao degrau em $u_1$\");"
   ]
  },
  {
   "cell_type": "markdown",
   "metadata": {},
   "source": [
    "Para um degrau na entrada 2 ($u_1 = 0$, $u_2 = 1$)"
   ]
  },
  {
   "cell_type": "code",
   "execution_count": 10,
   "metadata": {},
   "outputs": [
    {
     "data": {
      "image/png": "[encoded data removed]",
      "text/plain": [
       "<Figure size 1280x480 with 2 Axes>"
      ]
     },
     "metadata": {},
     "output_type": "display_data"
    }
   ],
   "source": [
    "u2 = array([[0, 1]]).T\n",
    "y_step2 = solve(sys=(Am, Bm, Cm), u=u2, k_samples=k_samples)\n",
    "\n",
    "figure(figsize=(6.4 * 2, 4.8))\n",
    "subplot(1, 2, 1)\n",
    "step(t, y_step2[:,0])\n",
    "title(\"Tanque 1\")\n",
    "xlabel(\"Tempo [s]\"); ylabel(\"Nível [m]\");\n",
    "\n",
    "subplot(1, 2, 2)\n",
    "step(t, y_step2[:,1])\n",
    "title(\"Tanque 2\")\n",
    "xlabel(\"Tempo [s]\"); ylabel(\"Nível [m]\");\n",
    "tight_layout();\n",
    "suptitle(\"Simulação da resposta ao degrau em $u_2$\");\n"
   ]
  },
  {
   "cell_type": "code",
   "execution_count": 11,
   "metadata": {},
   "outputs": [],
   "source": [
    "def augmented_systemMIMO(A_m, B_m, C_m):\n",
    "    n = A_m.shape[0]        # número de estados do sistema\n",
    "    q = C_m.shape[0]        # número de saídas do sistema\n",
    "    m = B_m.shape[1]        # número de entradas do sistema\n",
    "    o_m = zeros((q, n))\n",
    "    _1 = eye(q)\n",
    "    # para concatenar matrizes em python, usar hstack e vstack\n",
    "\n",
    "    A = vstack([\n",
    "        hstack([A_m, o_m.T]),      # Parte superior de A\n",
    "        hstack([C_m @ A_m, _1]) # Parte inferior de A\n",
    "    ])\n",
    "\n",
    "    B = vstack([\n",
    "        B_m,\n",
    "        C_m @ B_m\n",
    "    ])\n",
    "\n",
    "    C = hstack([o_m, _1])\n",
    "    return A, B, C\n",
    "\n",
    "A, B, C = augmented_systemMIMO(Am, Bm, Cm)"
   ]
  },
  {
   "cell_type": "markdown",
   "metadata": {},
   "source": [
    "## Dimensionalidade\n",
    "\n",
    "O i-ésimo elemento em $F$ é a matriz $CA^{i}$, que vai até $N_p$, cuja dimensão de cada bloco é $q \\times n$.\n",
    "Já $\\Phi$ é composto por blocos da forma $CA^{j-1}B$, cuja dimensão é $q \\times m$.\n",
    "\n",
    "Para o sistema dos tanque duplos temos que o modelo aumentado possui $n_1 = 2 \\rightarrow n = n_1 + q = 4$, $m = 2$ e $q = 2$. \n",
    "\n",
    "Daí, considerando $N_p = 5$ e $N_c = 3$\n",
    "- F: possui dimensão $qN_p \\times n = 10 \\times 4$\n",
    "- $\\Phi$: possui dimensões $qN_p \\times mN_c = 10 \\times 6$\n",
    "- $\\Phi^T\\Phi$: possui dimensão $mN_c \\times mN_c$\n",
    "- $\\Phi^TF$: possui dimensão $mN_c \\times n$"
   ]
  },
  {
   "cell_type": "code",
   "execution_count": 12,
   "metadata": {},
   "outputs": [
    {
     "name": "stdout",
     "output_type": "stream",
     "text": [
      "Dim(F) =  (10, 4)\n"
     ]
    },
    {
     "data": {
      "text/markdown": [
       "**F:**\n",
       "\n",
       "```\n",
       "0.9050 | 0.0184 | 1.0000 | 0.0000\n",
       "0.0123 | 0.9356 | 0.0000 | 1.0000\n",
       "0.9050 | 0.0184 | 1.0000 | 0.0000\n",
       "0.0123 | 0.9356 | 0.0000 | 1.0000\n",
       "1.7241 | 0.0523 | 1.0000 | 0.0000\n",
       "0.0348 | 1.8113 | 0.0000 | 1.0000\n",
       "2.4659 | 0.0990 | 1.0000 | 0.0000\n",
       "0.0660 | 2.6309 | 0.0000 | 1.0000\n",
       "3.1377 | 0.1564 | 1.0000 | 0.0000\n",
       "0.1043 | 3.3984 | 0.0000 | 1.0000\n",
       "```"
      ],
      "text/plain": [
       "<IPython.core.display.Markdown object>"
      ]
     },
     "metadata": {},
     "output_type": "display_data"
    },
    {
     "name": "stdout",
     "output_type": "stream",
     "text": [
      "Dim(Phi) =  (10, 6)\n"
     ]
    },
    {
     "data": {
      "text/markdown": [
       "**phi:**\n",
       "\n",
       "```\n",
       "0.0952 | 0.0005 | 0.0000 | 0.0000 | 0.0000 | 0.0000\n",
       "0.0006 | 0.0516 | 0.0000 | 0.0000 | 0.0000 | 0.0000\n",
       "0.1813 | 0.0019 | 0.0952 | 0.0005 | 0.0000 | 0.0000\n",
       "0.0024 | 0.0999 | 0.0006 | 0.0516 | 0.0000 | 0.0000\n",
       "0.1813 | 0.0019 | 0.1813 | 0.0019 | 0.0952 | 0.0005\n",
       "0.0024 | 0.0999 | 0.0024 | 0.0999 | 0.0006 | 0.0516\n",
       "0.2593 | 0.0041 | 0.1813 | 0.0019 | 0.1813 | 0.0019\n",
       "0.0051 | 0.1451 | 0.0024 | 0.0999 | 0.0024 | 0.0999\n",
       "0.3299 | 0.0069 | 0.2593 | 0.0041 | 0.1813 | 0.0019\n",
       "0.0086 | 0.1874 | 0.0051 | 0.1451 | 0.0024 | 0.0999\n",
       "```"
      ],
      "text/plain": [
       "<IPython.core.display.Markdown object>"
      ]
     },
     "metadata": {},
     "output_type": "display_data"
    }
   ],
   "source": [
    "def mpcgainsMIMO(A, B, C, Np, Nc):\n",
    "    n = A.shape[0] # número de estados\n",
    "    m = B.shape[1] # número de entradas\n",
    "    q = C.shape[0] # número de saídas\n",
    "    if not (A.shape[0] == A.shape[1]):\n",
    "        print(\"A do sistema não é quadrada\")\n",
    "    \n",
    "    F = C @ A\n",
    "    for i in range(1, Np):\n",
    "        F = vstack([F, C @ linalg.matrix_power(A, i)])\n",
    "    \n",
    "    Phi = vstack([C@B, F@B])\n",
    "    Phi = Phi[:-q] # remove um bloco\n",
    "    shifted = Phi\n",
    "    for i in range(0, Nc-1):\n",
    "        shifted = roll(shifted, shift=q, axis=0)  \n",
    "        shifted[:q, :m] = zeros((q, m))\n",
    "        Phi = hstack([Phi, shifted])\n",
    "    return F, Phi\n",
    "\n",
    "F, Phi = mpcgainsMIMO(A, B, C, 5, 3)\n",
    "print(\"Dim(F) = \", F.shape)\n",
    "print_matrix('F', F)\n",
    "print(\"Dim(Phi) = \", Phi.shape)\n",
    "print_matrix('phi', Phi)"
   ]
  },
  {
   "cell_type": "code",
   "execution_count": 21,
   "metadata": {},
   "outputs": [
    {
     "ename": "NameError",
     "evalue": "name 'Nc' is not defined",
     "output_type": "error",
     "traceback": [
      "\u001b[1;31m---------------------------------------------------------------------------\u001b[0m",
      "\u001b[1;31mNameError\u001b[0m                                 Traceback (most recent call last)",
      "Cell \u001b[1;32mIn [21], line 1\u001b[0m\n\u001b[1;32m----> 1\u001b[0m Nc\n",
      "\u001b[1;31mNameError\u001b[0m: name 'Nc' is not defined"
     ]
    }
   ],
   "source": [
    "Nc"
   ]
  },
  {
   "cell_type": "code",
   "execution_count": 23,
   "metadata": {},
   "outputs": [
    {
     "data": {
      "text/plain": [
       "array([[1., 0.],\n",
       "       [0., 1.],\n",
       "       [1., 0.],\n",
       "       [0., 1.],\n",
       "       [1., 0.],\n",
       "       [0., 1.],\n",
       "       [1., 0.],\n",
       "       [0., 1.],\n",
       "       [1., 0.],\n",
       "       [0., 1.]])"
      ]
     },
     "execution_count": 23,
     "metadata": {},
     "output_type": "execute_result"
    }
   ],
   "source": [
    "bar = F[:, 2:4]\n",
    "bar"
   ]
  },
  {
   "cell_type": "code",
   "execution_count": 24,
   "metadata": {},
   "outputs": [
    {
     "data": {
      "text/plain": [
       "array([[0.8],\n",
       "       [0.4],\n",
       "       [0.8],\n",
       "       [0.4],\n",
       "       [0.8],\n",
       "       [0.4],\n",
       "       [0.8],\n",
       "       [0.4],\n",
       "       [0.8],\n",
       "       [0.4]])"
      ]
     },
     "execution_count": 24,
     "metadata": {},
     "output_type": "execute_result"
    }
   ],
   "source": [
    "bar @ r"
   ]
  },
  {
   "cell_type": "code",
   "execution_count": 16,
   "metadata": {},
   "outputs": [
    {
     "data": {
      "image/png": "[encoded data removed]",
      "text/plain": [
       "<Figure size 640x480 with 4 Axes>"
      ]
     },
     "metadata": {},
     "output_type": "display_data"
    }
   ],
   "source": [
    "def solveClosedLoop(sys, r = None, k_samples=100):\n",
    "    N_p = 10\n",
    "    N_c = 2\n",
    "    r_w = 3\n",
    "\n",
    "    A, B, C = sys\n",
    "    m = B.shape[1]\n",
    "    n = A.shape[0]\n",
    "    q = C.shape[0]\n",
    "\n",
    "    F, Phi = mpcgainsMIMO(A, B, C, N_p, N_c)\n",
    "    Phi2 = Phi.T @ Phi\n",
    "\n",
    "    du = zeros((k_samples, B.shape[1], 1)) # Delta u\n",
    "\n",
    "    xk = zeros((n, 1))                 # X_e(k)\n",
    "    y = zeros((k_samples, C.shape[0], 1))\n",
    "\n",
    "    R = eye(m*N_c) * r_w # R barra\n",
    "    # R_s = ones((N_p, q))\n",
    "    R_s = F[:, n-q:n]\n",
    "    \n",
    "    sel = hstack([eye(m), zeros((m, m*N_c - q))])\n",
    "\n",
    "    for k in range(1, k_samples):\n",
    "        # print((B @ u).shape)\n",
    "        y[k] = C @ xk\n",
    "        xk = A @ xk + B @ du[k-1]\n",
    "\n",
    "        E = R_s @ r - F@xk # erro de predição\n",
    "        W1_inv = linalg.inv(Phi2 + R)\n",
    "        DeltaU = sel @ W1_inv @ Phi.T @ E\n",
    "        du[k] = DeltaU\n",
    "        # print(DeltaU)\n",
    "    return y, du\n",
    "\n",
    "k_samples = 100\n",
    "t = arange(0, k_samples * 0.1, 0.1)\n",
    "r = array([[0.8, 0.4]]).T\n",
    "rt = np.ones((len(t), 2)) * r.T\n",
    "y, du = solveClosedLoop((A, B, C), r, k_samples=100)\n",
    "\n",
    "# figure(figsize=(6.4, 4.8))\n",
    "subplot(2, 2, 1)\n",
    "step(t, y[:,0], label=\"$y_1(k)$\")\n",
    "plot(t, rt[:, 0], '--g', label=\"$r_1$(k)\")\n",
    "title(\"Tanque 1\")\n",
    "xlabel(\"Tempo [s]\"); ylabel(\"Nível [m]\");\n",
    "legend()\n",
    "\n",
    "subplot(2, 2, 2)\n",
    "step(t, y[:,1], label=\"$y_2(k)$\")\n",
    "plot(t, rt[:, 1], '--g', label=\"$r_2$(k)\")\n",
    "title(\"Tanque 2\")\n",
    "xlabel(\"Tempo [s]\"); ylabel(\"Nível [m]\");\n",
    "legend()\n",
    "\n",
    "subplot(2, 2, 3)\n",
    "step(t, du[:, 0])\n",
    "title(\"$\\Delta u_1 (k) $\")\n",
    "xlabel(\"Tempo [s]\"); ylabel(\"$\\Delta$ Vazão [$\\\\frac{m^3}{s}$]\");\n",
    "tight_layout();\n",
    "\n",
    "subplot(2, 2, 4)\n",
    "step(t, du[:, 1])\n",
    "title(\"$\\Delta u_2 (k) $\")\n",
    "xlabel(\"Tempo [s]\"); ylabel(\"$\\Delta$ Vazão [$\\\\frac{m^3}{s}$]\");\n",
    "tight_layout();\n",
    "\n",
    "# tight_layout();\n",
    "# suptitle(\"Simulação da resposta ao degrau em $u_2$\");"
   ]
  },
  {
   "cell_type": "markdown",
   "metadata": {},
   "source": []
  }
 ],
 "metadata": {
  "kernelspec": {
   "display_name": "Python 3",
   "language": "python",
   "name": "python3"
  },
  "language_info": {
   "codemirror_mode": {
    "name": "ipython",
    "version": 3
   },
   "file_extension": ".py",
   "mimetype": "text/x-python",
   "name": "python",
   "nbconvert_exporter": "python",
   "pygments_lexer": "ipython3",
   "version": "3.10.4"
  }
 },
 "nbformat": 4,
 "nbformat_minor": 2
}
