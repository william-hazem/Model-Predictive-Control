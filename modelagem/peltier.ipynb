{
 "cells": [
  {
   "cell_type": "markdown",
   "id": "e791e9ec",
   "metadata": {},
   "source": [
    "## Descrição Geral do Processo\n",
    "\n",
    "O módulo consiste de células Peltier termo-elétricas entre duas faces cerâmicas, sendo uma face de carga e outra uma face quente. A face quente é conectado a um trocador de calor, responsável por dissipar a energia térmica para o ambiente.\n",
    "\n",
    "Quando uma corrente percorre as células de Peltier, ocorre uma série de efeitos termo-elétricos responsáveis por criar um fluxo de calor da face de carga para a face quente. O sentido do fluxo de calor depende do sentido da corrente elétrica aplicada no módulo Peltier.\n",
    "\n",
    "São percebidos os seguintes efeitos elétricos na Planta de Peltier:\n",
    "- Efeito Peltier\n",
    "- Efeito Seebeck\n",
    "- Efeito Thompson\n",
    "- Efeito Joule\n",
    "\n",
    "![image.png](../figure/peltier/peltier.png)"
   ]
  },
  {
   "cell_type": "markdown",
   "id": "f17f36ae",
   "metadata": {},
   "source": [
    "## Modelagem dos efeitos\n",
    "\n",
    "## Efeito Seebeck\n",
    "\n",
    "O efeito Seebeck foi descoberto em 1821, e ocorre quando dois condutores (ou semicondutores) são unidos por duas junções. Quando há diferença de temperatura entre as junções, ocorre um deslocamento de elétrons que provoca uma força eletromotriz.\n",
    "\n",
    "\\begin{equation}\n",
    "    V = \\int_{T1}^{T2}(S_B(T)-S_A(T))dT\n",
    "\\end{equation}\n",
    "\n",
    "Em que os coeficientes S_B e S_A são os coeficientes de Seebeck dos materiais A e B.\n",
    "\n",
    "Considerando os coeficiente de Seebeck como constantes em função da temperatura,\n",
    "\n",
    "\\begin{equation}\n",
    "    V = (S_B - S_A)(T_2 - T_1) = S\\Delta T\n",
    "\\end{equation}\n",
    "\n",
    "<!-- \\label{eq:efeito_seebeck} -->\n",
    "\n",
    "### Efeito Peltier\n",
    "\n",
    "O efeito Peltier foi descoberto em 1834 por (...). O efeito consiste em um gradiente de temperatura na junção de dois semicondutores de materiais distintos quando são submetidos a uma tensão elétrica em um circuito fechado.\n",
    "\n",
    "O gradiente de temperatura entre dois semicondutores distintos podem ser modelado em função do coeficiente de Peltier.\n",
    "\n",
    "\\begin{equation}\n",
    "    \\frac{\\partial Q}{\\partial t} = (\\theta_B - \\theta_A)I\n",
    "\\end{equation}\n",
    "\n",
    "O efeito Peltier é o efeito oposto do efeito Seebeck, seus coeficientes podem ser relacionados do seguinte modo:\n",
    "\n",
    "\\begin{equation}\n",
    "    \\omega = ST\n",
    "\\end{equation}\n",
    "\n",
    "### Efeito Thomson\n",
    "\n",
    "O efeito Thomson foi previsto teoricamente e posteriormente observado experimentalmente em 1851 por Lord Kelvin. O efeito descreve a obsorção ou liberação de calor quando uma barra metálica com resistividade elétrica $rho$ é submetido a um gradiente de temperatura ou a uma corrente elétrica de densidade $J$.\n",
    "\n",
    "\\begin{equation}\n",
    "    q = \\rho J^2 - \\mu J \\frac{\\partial T}{\\partial x}\n",
    "\\end{equation}\n",
    "\n",
    "Onde $\\mu$ é o coeficiente de Thomson do material dado em Joules por pascal."
   ]
  },
  {
   "cell_type": "markdown",
   "id": "7277b3bd",
   "metadata": {},
   "source": [
    "## Revisão de Termodinâmica\n",
    "\n",
    "### Lei de condução térmica (Lei de Fourier)\n",
    "\n",
    "Descreve a difusão de energia térmica (calor) em um material ou entre materiais em contato. A lei de Fourier diz que o fluxo de densidade de calor é proporcional a direção oposta do gradiente de temperatura e a área.\n",
    "\n",
    "\\begin{equation}\n",
    "    q = -k\\nabla T\n",
    "\\end{equation}\n",
    "\n",
    "- $q$: É a densidade local de fluxo de calor $[W/m^2]$\n",
    "- $k$: é a condutividade do térmica do material $[W/(mK)]$\n",
    "- $\\nabla T$: Gradiente de temperatura $[K/m]$\n",
    "\n",
    "A equação pode ser vista como fluxo de calor, ao considerar a área da seção:\n",
    "\\begin{equation}\n",
    "    q = -kA\\nabla T\n",
    "\\end{equation}"
   ]
  },
  {
   "cell_type": "markdown",
   "id": "c4d114d3",
   "metadata": {},
   "source": [
    "\n",
    "\\begin{equation}\n",
    "C\\gamma \\frac{\\partial T}{\\partial x}(x, t)\n",
    "\\end{equation}"
   ]
  },
  {
   "cell_type": "markdown",
   "id": "0822e466",
   "metadata": {},
   "source": [
    "## Linearização\n",
    "\n",
    "Linearizando a equação que descreve a temperatura na placa de carga térmica,\n",
    "\n",
    "\\begin{equation}\n",
    "(M_LC_L + M_CC_C)\\frac{\\partial T_L}{\\partial t}(x, t) = Q_L + \\frac{kA_m}{L}(T_H - T_L) - In\\alpha_{PN}T_L\n",
    "\\end{equation}\n",
    "\n",
    "\\begin{equation}\n",
    "F(x, t) = \\frac{\\partial T_L}{\\partial t}(x, t)\n",
    "\\end{equation}\n",
    "\n",
    "\\begin{equation}\n",
    "A=\\left.\\frac{\\partial F(x, u)}{\\partial x}\\right|_{u=u_e} \\quad B=\\left.\\frac{\\partial F(x, u)}{\\partial u}\\right|_{x=x_e} \\quad C=\\left.\\frac{\\partial h(x, u)}{\\partial x}\\right|_{u=u_e}\n",
    "\\end{equation}\n",
    "\n",
    "\\begin{equation}\n",
    "A=\\left.\\frac{\\partial F(x, u)}{\\partial x}\\right|_{I=I_e}=\\frac{1}{\\left(M_L C_L+M_C C_C\\right)}\\left(-k \\frac{A_m}{L}-n \\alpha_{P N} I_e\\right)\n",
    "\\end{equation}\n",
    "\n",
    "\\begin{equation}\n",
    "B=\\left.\\frac{\\partial F(x, u)}{\\partial u}\\right|_{T_L=T_{L e}}=\\frac{1}{\\left(M_L C_L+M_C C_C\\right)}\\left(-n \\alpha_{P N} T_{L e}\\right)\n",
    "\\end{equation}"
   ]
  },
  {
   "cell_type": "markdown",
   "id": "27d6eab1",
   "metadata": {},
   "source": [
    "\\begin{equation}\n",
    "\\begin{array}{|r|l|}\n",
    "\\hline \\alpha_{P N} & 0.00053 \\mathrm{~V} / \\mathrm{K} \\\\\n",
    "\\hline \\rho & 0.00001 \\Omega m \\\\\n",
    "\\hline L & 0.0025 m \\\\\n",
    "\\hline A_m & 0.00145 m \\\\\n",
    "\\hline n & 127 \\text { junções } \\\\\n",
    "\\hline k & 1.2 W / m \\cdot K \\\\\n",
    "\\hline M_C, M_H & 0.05 \\mathrm{~kg} \\\\\n",
    "\\hline M_L & 0.34 \\mathrm{~kg} \\\\\n",
    "\\hline M_F & 0.6 \\mathrm{~kg} \\\\\n",
    "\\hline C_C, C_H & 1000 \\mathrm{~W} / \\mathrm{kg} \\cdot \\mathrm{~K} \\\\\n",
    "\\hline C_L & 400 \\mathrm{~W} / \\mathrm{kg} \\cdot \\mathrm{~K} \\\\\n",
    "\\hline C_F & 850 \\mathrm{~W} / \\mathrm{kg} \\cdot \\mathrm{~K} \\\\\n",
    "\\hline \\gamma & 200 \\\\\n",
    "\\hline R_{t h} & 0.25 \\mathrm{~K} / \\mathrm{W} \\\\\n",
    "\\hline T_a & 25^{\\circ} \\mathrm{C} \\\\\n",
    "\\hline C & 700 \\mathrm{~W} / \\mathrm{kg} \\cdot \\mathrm{~K} \\\\\n",
    "\\hline\n",
    "\\end{array}\n",
    "\\end{equation}"
   ]
  },
  {
   "cell_type": "code",
   "execution_count": 11,
   "id": "42afa652",
   "metadata": {},
   "outputs": [],
   "source": [
    "params = {\n",
    "    \"peltier_coef\": 53e-5,\n",
    "    \"eletric_res\": 1e-5,\n",
    "    \"L\": 0.0025,\n",
    "    \"Am\": 0.00145,\n",
    "    \"n\": 127,\n",
    "    \"termical_cond\": 1.2,\n",
    "    \"Mc\": 0.05,\n",
    "    \"Mh\": 0.05,\n",
    "    \"Ml\": 0.34,\n",
    "    \"Mf\": 0.6,\n",
    "    \"Cc\": 1000,\n",
    "    \"Ch\": 1000,\n",
    "    \"Cl\": 400,\n",
    "    \"Cf\": 850,\n",
    "    \"gamma\": 200,\n",
    "    \"Rth\": 0.25,\n",
    "    \"Ta\": 25,\n",
    "    \"C\": 700\n",
    "}\n",
    "\n",
    "def peltier_linear_dynamic(x_e, u_e, params):\n",
    "    M_l = params[\"Ml\"]\n",
    "    C_l = params[\"Cl\"]\n",
    "    M_h = params[\"Mh\"]\n",
    "    C_h = params[\"Ch\"]\n",
    "    k = params[\"termical_cond\"]\n",
    "    A_m = params[\"Am\"]\n",
    "    L = params[\"L\"]\n",
    "    n = params[\"n\"]\n",
    "    alpha = params[\"peltier_coef\"]\n",
    "    \n",
    "    I_e = u_e\n",
    "    T_le = x_e\n",
    "    \n",
    "    beta = M_l*C_l + M_h*C_h\n",
    "\n",
    "    A = (1.0/beta)*(-k*A_m/L - n*alpha*I_e)\n",
    "    B = (1.0/beta)*(-n*alpha*T_le)\n",
    "    C = 1.0\n",
    "\n",
    "    return A, B, C\n",
    "\n",
    "def peltier_dynamic(t, y):\n",
    "    M_l = params[\"Ml\"]\n",
    "    C_l = params[\"Cl\"]\n",
    "    M_h = params[\"Mh\"]\n",
    "    C_h = params[\"Ch\"]\n",
    "    k = params[\"termical_cond\"]\n",
    "    A_m = params[\"Am\"]\n",
    "    L = params[\"L\"]\n",
    "    n = params[\"n\"]\n",
    "    alpha = params[\"peltier_coef\"]\n",
    "\n",
    "    T_a = params[\"Ta\"]\n",
    "    R_th = params[\"Rth\"]\n",
    "    beta = M_l*C_l + M_h*C_h\n",
    "    Q_l = 0.0\n",
    "    I = 3.0\n",
    "\n",
    "    # y = [T_h T_l]\n",
    "    T_h = y[0]\n",
    "    T_l = y[1]\n",
    "    dT_l = Q_l + k*A_m/L*(T_h - T_l) - I*n*alpha*T_l\n",
    "    dT_l = dT_l / beta\n",
    "   \n",
    "    dT_h = -(T_h - T_a)/R_th - k*A_m/L*(T_h - T_l) + I*n*alpha*T_h\n",
    "    dT_h = dT_h / beta\n",
    "\n",
    "    return [dT_h, dT_l]"
   ]
  },
  {
   "cell_type": "code",
   "execution_count": 12,
   "id": "77d2cae0",
   "metadata": {},
   "outputs": [
    {
     "data": {
      "text/plain": [
       "[<matplotlib.lines.Line2D at 0x24ab11ba110>]"
      ]
     },
     "execution_count": 12,
     "metadata": {},
     "output_type": "execute_result"
    },
    {
     "data": {
      "image/png": "[encoded data removed]",
      "text/plain": [
       "<Figure size 640x480 with 1 Axes>"
      ]
     },
     "metadata": {},
     "output_type": "display_data"
    }
   ],
   "source": [
    "from matplotlib.pyplot import plot\n",
    "from scipy.signal import step\n",
    "from scipy.integrate import solve_ivp\n",
    "\n",
    "# ponto de linearização\n",
    "T_le = 298 # K\n",
    "I_e = 3    # A\n",
    "Q_L = 0    # 0\n",
    "\n",
    "A, B, C = peltier_linear_dynamic(x_e = T_le, u_e = I_e, params = params)\n",
    "\n",
    "t_out, y_out = step(system=(A, B, C), X0=0)\n",
    "plot(t_out, y_out)"
   ]
  },
  {
   "cell_type": "code",
   "execution_count": 13,
   "id": "a6b25009",
   "metadata": {},
   "outputs": [
    {
     "data": {
      "text/plain": [
       "[<matplotlib.lines.Line2D at 0x24ab1234e80>]"
      ]
     },
     "execution_count": 13,
     "metadata": {},
     "output_type": "execute_result"
    },
    {
     "data": {
      "image/png": "[encoded data removed]",
      "text/plain": [
       "<Figure size 640x480 with 1 Axes>"
      ]
     },
     "metadata": {},
     "output_type": "display_data"
    }
   ],
   "source": [
    "res = solve_ivp(peltier_dynamic, t_span=(0, 1000), y0=[0, 0])\n",
    "\n",
    "plot(res.y[0])"
   ]
  },
  {
   "cell_type": "code",
   "execution_count": null,
   "id": "3624cc27",
   "metadata": {},
   "outputs": [],
   "source": []
  }
 ],
 "metadata": {
  "kernelspec": {
   "display_name": "Python 3",
   "language": "python",
   "name": "python3"
  },
  "language_info": {
   "codemirror_mode": {
    "name": "ipython",
    "version": 3
   },
   "file_extension": ".py",
   "mimetype": "text/x-python",
   "name": "python",
   "nbconvert_exporter": "python",
   "pygments_lexer": "ipython3",
   "version": "3.10.4"
  }
 },
 "nbformat": 4,
 "nbformat_minor": 5
}
