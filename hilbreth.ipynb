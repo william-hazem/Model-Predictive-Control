{
 "cells": [
  {
   "cell_type": "markdown",
   "id": "c2bf7626",
   "metadata": {},
   "source": [
    "# Programação Quadrática - Método de Hildreth\n",
    "\n",
    "Este notebook contém a descrição de um problema de otimização com restrições, que será dividido em um problema Dual e um problema Primal com base nos critérios de Kuhn-Tucker. O método de Hildreth permite encontrar uma solução para o problema dual por meio de iterações sobre os multiplicadores de Lagrange.\n",
    "\n",
    "Baseado em:\n",
    "- Hildreth, Clifford. A Quadratic Programming Procedure"
   ]
  },
  {
   "cell_type": "markdown",
   "id": "53c1cec9",
   "metadata": {},
   "source": [
    "## Problema Primal-Dual\n",
    "\n",
    "Reescrevemos o problema de minimização com restrições quebrando o problema em dois, um problema primal e um problema dual. O método dual pode ser usado para identificar sistematicamente o conjunto de restrições inativas, permitindo elimina-las da solução. O multiplicador de Lagrange é chamado de variável dual, ele método permite simplificar a busca da solução ótima do problema de minimização com restrições.\n",
    "\n",
    "O problema dual é derivado, assumindo viabilidade tal que exista um $x$ que satisfaça as restrições $Mx < \\gamma$, o problema dual é equivale a\n",
    "\n",
    "\\begin{equation}\n",
    "\\max _{\\lambda \\geq 0} \\min _x\\left[\\frac{1}{2} x^T E x+x^T F+\\lambda^T(M x-\\gamma)\\right] .\n",
    "\\end{equation}\n",
    "\n",
    "A minimização em $x$ não depende de restrições, e têm valor de ótimo $x = -E^{-1}(F+M^T + \\lambda)$,\n",
    "\n",
    "Substituindo $x$ nos termos de $J$, temos:\n",
    "\n",
    "\\begin{equation*}\n",
    "\\begin{aligned}\n",
    "    \\frac{1}{2} x^T E x+x^T &=\\frac{1}{2}(F^T+\\lambda^TM)^TE^{-1}\n",
    "    (F+M^T\\lambda) = \\frac{1}{2}F^T E^{-1}F + \\frac{1}{2}F^TE^{-1}M^T\\lambda + \\frac{1}{2}\\lambda^TME^{-1}F + \\frac{1}{2} \\lambda^TME^{-1}M^T\\lambda   \\\\\n",
    "    x^TF                    &= -F^TE^{-1}F - \\lambda^TME^{-1}F  \\\\\n",
    "    \\lambda^T(Mx - \\gamma) &= \\lambda^TMx - \\lambda^T\\gamma  = -\\lambda^T(ME^{-1}F + \\gamma) -\\lambda^TME^{-1}M^T\\lambda\n",
    "\\end{aligned}\n",
    "\\end{equation*}\n",
    "\n",
    "juntando tudo, temos que\n",
    "\n",
    "\\begin{equation*}\n",
    "\\begin{aligned}\n",
    "    \\frac{1}{2} x^T E x+x^T F+\\lambda^T(M x-\\gamma) = -\\frac{1}{2}\\lambda^TME^{-1}M\\lambda - \\lambda^T(ME^{-1} F + \\gamma) -\\frac{1}{2}FE^{-1}F\n",
    "\\end{aligned}\n",
    "\\end{equation*}\n",
    "\n",
    "Daí, o problema dual pode ser rescrito como\n",
    "\n",
    "\\begin{equation*}\n",
    "\\begin{aligned}\n",
    "    \\max _{\\lambda \\geq 0} (-\\frac{1}{2}\\lambda^TH\\lambda - \\lambda^TK - \\frac{1}{2}F^TE^{-1}F)\n",
    "\\end{aligned}\n",
    "\\end{equation*}\n",
    "\n",
    "O problema dual em relação a $\\lambda$ é também um problema quadrático equivalente a\n",
    "\n",
    "\\begin{equation*}\n",
    "\\begin{aligned}\n",
    "    \\min _{\\lambda \\geq 0} (\\frac{1}{2}\\lambda^TH\\lambda + \\lambda^TK + \\frac{1}{2}F^TE^{-1}F)\n",
    "\\end{aligned}\n",
    "\\end{equation*}\n",
    "\n",
    "onde\n",
    "\\begin{align}\n",
    "    H &= ME^{-1}M^T \\\\\n",
    "    K &= \\gamma + ME^{-1}F\n",
    "\\end{align}\n",
    "\n",
    "O conjunto ótimo dos multiplicadores de Lagrange que minimizam a função de custo sujeito a $\\lambda \\geq 0$, são denotados por $\\lambda_{act}$, e corresponde as restrições descritas por $M_{act}$ e $\\gamma_{act}$. Com os valores de $\\lambda_{act}$ e $M_{act}$, a variável primal é obtida usando\n",
    "\n",
    "\\begin{equation*}\n",
    "    x = -E^{-1}F -E^{-1}M_{act}^T\\lambda_{act}\n",
    "\\end{equation*}\n",
    "\n",
    "em que as restrições são tratadas como igualdades durante a computação.\n",
    "\n",
    "## Procedimento de Hildreth\n",
    "\n",
    "Para uma função de custo quadrática qualquer, dado por J\n",
    "\n",
    "\\begin{equation*}\n",
    "    \\min_{z \\geq 0} \\frac{1}{2}z^TAx + z^Tb\n",
    "\\end{equation*}\n",
    " \n",
    "Pode-se encontrar $z$ que satisfaz a restrição impostas de forma iterativa considerando as restrições de desigualdade como igualdade, considerando apenas um elemento $z_i$ em $z$ variável a cada passo. Como queremos um valor em $z$ que minimiza $J$, fazemos:\n",
    "\n",
    "\\begin{equation*}\n",
    "    \\frac{\\partial J}{\\partial z_i} = \\sum_{j=1}^{n}a_{i, j}z_{j} + b_{i} = 0\n",
    "\\end{equation*}\n",
    "\n",
    "O vetor solução $z$ será calculado considerando uma constante variável de cada vez, em que $z_i$ é o termo que será atualizado. Assim, removendo o termo referente a $z_i$ do somatório\n",
    "\n",
    "\\begin{equation*}\n",
    "    \\overbrace{\\sum_{j=1}^{i-1}a_{i, j}z_{j}}^{\\text{Valores atualizados}} + a_{i, i}z_{i} + \\overbrace{\\sum_{j=i+1}^{n}a_{i, j}z_{j}}^{\\text{Valores não atualizados}} + b_{i} = 0\n",
    "\\end{equation*}\n",
    "\n",
    "Note que no $i$-ésimo passo, do primeiro elemento ao $i$-ésimo elemento de $z$ já terá sido atualizados no passo atual $p$, o segundo somatório utilizará os termos ainda não atualizados no vetor $z$, calculado em um passo anterior $p-1$. Outra questão é que $z_{i}$ é não negativo, daí, reescrevendo a expressão, temos:\n",
    "\n",
    "\\begin{equation*}\n",
    "    \\sum_{j=1}^{i-1}a_{i, j}z_{j}^{(p)}+ a_{i, i}w_{i}^{(p)} + \\sum_{j=i+1}^{n}a_{i, j}z_{j}^{(p-1)} + b_{i} = 0\n",
    "\\end{equation*}\n",
    "\n",
    "\\begin{equation*}\n",
    "    \\begin{aligned}\n",
    "        \n",
    "        w_{i}^{(p)} & = -\\frac{1}{a_{i,i}}(\\sum_{j=1}^{i-1}a_{i, j}z_{j}^{(p)} + \\sum_{j=i+1}^{n}a_{i, j}z_{j}^{(p-1)} + b_i)   \\\\\n",
    "        z_{i}^{(p)} &:= max(0, w_{i}^{(p)})\n",
    "\n",
    "    \\end{aligned}\n",
    "\\end{equation*}\n",
    "\n"
   ]
  },
  {
   "cell_type": "markdown",
   "id": "30711077",
   "metadata": {},
   "source": [
    "### Implementação com Exemplo\n",
    "\n",
    "Considere a função de custo\n",
    "\n",
    "\\begin{equation}\n",
    "J=\\frac{1}{2} x^T E x+F^T x\n",
    "\\end{equation}\n",
    "\n",
    "Minimize a função de custo dado que,\n",
    "\\begin{equation}\n",
    "    E=\\left[\\begin{array}{cc}\n",
    "    2 & -1 \\\\\n",
    "    -1 & 1\n",
    "    \\end{array}\\right] ; F=\\left[\\begin{array}{c}\n",
    "    -1 \\\\\n",
    "    0\n",
    "    \\end{array}\\right]\n",
    "\\end{equation}\n",
    "\n",
    "e Restrições $0 \\leq x_1$, $ 0 \\leq x_2$ e $3x_1 + 2x_2 \\leq 4$\n",
    "\n",
    "Temos que o ótimo global é dado por\n",
    "$$x^0 = -E^{-1}F$$"
   ]
  },
  {
   "cell_type": "code",
   "execution_count": 117,
   "id": "071b91d0",
   "metadata": {},
   "outputs": [
    {
     "data": {
      "text/markdown": [
       "**x*:**\n",
       "\n",
       "```\n",
       "1.0000\n",
       "1.0000\n",
       "```"
      ],
      "text/plain": [
       "<IPython.core.display.Markdown object>"
      ]
     },
     "metadata": {},
     "output_type": "display_data"
    }
   ],
   "source": [
    "from util import print_matrix\n",
    "from numpy import *\n",
    "inv = linalg.inv\n",
    "\n",
    "E = array([[2, -1], [-1, 1]])\n",
    "F = array([[-1], [0]])\n",
    "\n",
    "M = array([[-1, 0], [0, -1], [3, 2]])\n",
    "gamma = array([[0, 0, 4]]).T\n",
    "\n",
    "x_global = -inv(E)@F\n",
    "print_matrix('x*', x_global)"
   ]
  },
  {
   "cell_type": "markdown",
   "id": "54406a40",
   "metadata": {},
   "source": [
    "O ótimo global viola a restrição $3x_1 + 2x_2 = 3 + 2 > 4$"
   ]
  },
  {
   "cell_type": "markdown",
   "id": "9dea93f0",
   "metadata": {},
   "source": [
    "Para encontrar o $\\lambda^*$ ótimo, calculamos H e K"
   ]
  },
  {
   "cell_type": "code",
   "execution_count": 118,
   "id": "52bcc173",
   "metadata": {},
   "outputs": [
    {
     "data": {
      "text/markdown": [
       "**H:**\n",
       "\n",
       "```\n",
       "1.0000 | 1.0000 | -5.0000\n",
       "1.0000 | 2.0000 | -7.0000\n",
       "-5.0000 | -7.0000 | 29.0000\n",
       "```"
      ],
      "text/plain": [
       "<IPython.core.display.Markdown object>"
      ]
     },
     "metadata": {},
     "output_type": "display_data"
    },
    {
     "data": {
      "text/markdown": [
       "**K:**\n",
       "\n",
       "```\n",
       "1.0000\n",
       "1.0000\n",
       "-1.0000\n",
       "```"
      ],
      "text/plain": [
       "<IPython.core.display.Markdown object>"
      ]
     },
     "metadata": {},
     "output_type": "display_data"
    }
   ],
   "source": [
    "H = M @ inv(E) @ M.T\n",
    "K = (M @ inv(E) @ F) + gamma\n",
    "\n",
    "print_matrix('H', H)\n",
    "print_matrix('K', K)"
   ]
  },
  {
   "cell_type": "code",
   "execution_count": 119,
   "id": "cf1ac437",
   "metadata": {},
   "outputs": [
    {
     "data": {
      "text/markdown": [
       "**x*:**\n",
       "\n",
       "```\n",
       "0.8276 | 0.7586\n",
       "```"
      ],
      "text/plain": [
       "<IPython.core.display.Markdown object>"
      ]
     },
     "metadata": {},
     "output_type": "display_data"
    }
   ],
   "source": [
    "# lambda arbitrário na iteração 0\n",
    "n = H.shape[1]\n",
    "lambda_0 = zeros((n, 1))\n",
    "\n",
    "P = 3\n",
    "\n",
    "def _log(e, v):\n",
    "    if e:\n",
    "        print(v)\n",
    "\n",
    "def HildrethIteration(A, b, lambda_old):\n",
    "    n = len(lambda_old)\n",
    "    lambda_new = zeros((n, 1))\n",
    "    for i in range(0, n):\n",
    "        w = 0\n",
    "        for j in range(0, i):\n",
    "            w += A[i, j] * lambda_new[j]\n",
    "        for j in range(i+1, n):\n",
    "            w += A[i, j] * lambda_old[j]\n",
    "        w += b[i]\n",
    "        w = - w / A[i, i]\n",
    "        lambda_new[i] = max(0, w)\n",
    "    return lambda_new\n",
    "\n",
    "def HildrethQP(C, d, G, h, p_max = 10, v=0):\n",
    "    \"\"\"\n",
    "        J = x'Cx + d'x\n",
    "\n",
    "        subject to Gx <= h\n",
    "    \"\"\"\n",
    "\n",
    "    inv = linalg.inv\n",
    "\n",
    "    # Verifica se o ponto ótimo satisfaz as restrições\n",
    "    x_opt = - inv(C) @ d\n",
    "    if(all(G @ x_opt <= h)):\n",
    "        return x_opt\n",
    "    _log(v > 1, f\"x_opt: {x_opt}\")\n",
    "    # Caso contrário, calcula o ótimo pelo método de Hildreth\n",
    "    H = G @ inv(C) @ G.T\n",
    "    K = (G @ inv(C) @ d) + h\n",
    "    n = H.shape[1]\n",
    "    lambda_p = zeros((n, 1))\n",
    "    for p in range(1, p_max):\n",
    "        lambda_pp = lambda_p\n",
    "        lambda_p = HildrethIteration(H, K, lambda_pp)\n",
    "\n",
    "        if(all(abs(lambda_p - lambda_pp) < 1e-15)):\n",
    "            _log(v > 0, f\"Convergiu em {p} iterações\")\n",
    "            break\n",
    "\n",
    "        if not v:\n",
    "            continue\n",
    "        print(f\"Iteração {p}:\", lambda_p.T)\n",
    "\n",
    "    # active_idx = (lambda_p != 0).flatten()\n",
    "    # G_act = G[active_idx, :]\n",
    "    # lambda_act = lambda_p[active_idx].reshape(-1, 1)\n",
    "    _log(v > 2, inv(C)@G.T@lambda_p)\n",
    "    return x_opt - inv(C)@G.T@lambda_p;\n",
    "\n",
    "x_feasible = HildrethQP(E, F, M, gamma)\n",
    "print_matrix('x*', x_feasible.T)\n",
    "\n"
   ]
  },
  {
   "cell_type": "markdown",
   "id": "e506f859",
   "metadata": {},
   "source": [
    "### Exemplo 2"
   ]
  },
  {
   "cell_type": "markdown",
   "id": "79f90046",
   "metadata": {},
   "source": [
    "\\begin{equation*}\n",
    "    J = \\frac{1}{2}[(x_1-2)^2 + (x_2 - 2)^2]\n",
    "\\end{equation*}\n",
    "\n",
    "Sujeito a $0 \\leq x_1 \\leq 1$ e $0 \\leq x_2 \\leq 1$"
   ]
  },
  {
   "cell_type": "code",
   "execution_count": 120,
   "id": "83a0a546",
   "metadata": {},
   "outputs": [
    {
     "data": {
      "text/markdown": [
       "**E:**\n",
       "\n",
       "```\n",
       "1.0000 | 0.0000\n",
       "0.0000 | 1.0000\n",
       "```"
      ],
      "text/plain": [
       "<IPython.core.display.Markdown object>"
      ]
     },
     "metadata": {},
     "output_type": "display_data"
    },
    {
     "data": {
      "text/markdown": [
       "**F:**\n",
       "\n",
       "```\n",
       "-2.0000\n",
       "-2.0000\n",
       "```"
      ],
      "text/plain": [
       "<IPython.core.display.Markdown object>"
      ]
     },
     "metadata": {},
     "output_type": "display_data"
    },
    {
     "data": {
      "text/markdown": [
       "**M:**\n",
       "\n",
       "```\n",
       "1.0000 | 0.0000\n",
       "-1.0000 | 0.0000\n",
       "0.0000 | 1.0000\n",
       "0.0000 | -1.0000\n",
       "```"
      ],
      "text/plain": [
       "<IPython.core.display.Markdown object>"
      ]
     },
     "metadata": {},
     "output_type": "display_data"
    },
    {
     "data": {
      "text/markdown": [
       "**gamma:**\n",
       "\n",
       "```\n",
       "1.0000\n",
       "0.0000\n",
       "1.0000\n",
       "0.0000\n",
       "```"
      ],
      "text/plain": [
       "<IPython.core.display.Markdown object>"
      ]
     },
     "metadata": {},
     "output_type": "display_data"
    },
    {
     "data": {
      "text/markdown": [
       "**Solução:**\n",
       "\n",
       "```\n",
       "1.0000\n",
       "1.0000\n",
       "```"
      ],
      "text/plain": [
       "<IPython.core.display.Markdown object>"
      ]
     },
     "metadata": {},
     "output_type": "display_data"
    }
   ],
   "source": [
    "E = array([[1, 0], [0, 1]])\n",
    "F = array([[-2, -2]]).T\n",
    "M = array([[1, 0], [-1, 0], [0, 1], [0, -1]])\n",
    "gamma = array([[1, 0, 1, 0]]).T\n",
    "\n",
    "print_matrix('E', E)\n",
    "print_matrix('F', F)\n",
    "print_matrix('M', M)\n",
    "print_matrix('gamma', gamma)\n",
    "\n",
    "x_feasible2 = HildrethQP(E, F, M, gamma, v=0)\n",
    "print_matrix('Solução', x_feasible2)\n"
   ]
  },
  {
   "cell_type": "markdown",
   "id": "3d8b513d",
   "metadata": {},
   "source": [
    "## Exemplo DMPC com restrição na taxa de variação da variável controlada"
   ]
  },
  {
   "cell_type": "markdown",
   "id": "96c09d98",
   "metadata": {},
   "source": [
    "Considerando que uma planta é descrito pelo modelo em tempo contínuo\n",
    "\n",
    "\\begin{equation*}\n",
    "    G(s) = \\frac{10}{s^2 + 0.1s + 3}\n",
    "\\end{equation*}\n",
    "\n",
    "Projetando um controlador preditivo de tempo discreto com intervalo de amostragem $\\Delta T = 0.1$ e Horizonte de controle $N_c = 3$, $N_p = 20$ e $r_w = 0.01$. Com limite na taxa de variação do sinal de controle especificado como:\n",
    "\n",
    "\\begin{equation*}\n",
    "-1.5 \\leq \\Delta u(k) \\leq 3\n",
    "\\end{equation*}\n",
    "\n",
    "Para este exemplo, será considerando a restrição apenas no primeiro elemento de $\\Delta U$.\n",
    "\n",
    "Sabendo que a função de custo para o MPC é segundo a equação a seguir (ver notebook sobre MPC):\n",
    "\n",
    "\\begin{equation*}\n",
    "J=\\Delta U^T \\left(\\Phi^T \\Phi+\\bar{R}\\right) \\Delta U - 2 \\Delta U^T \\Phi^T\\left(R_s-F x\\left(k_i\\right)\\right),\n",
    "\\end{equation*}\n",
    "\n",
    "Reescrevendo na forma:\n",
    "\n",
    "\\begin{equation*}\n",
    "J=\\frac{1}{2}\\Delta U^T E \\Delta U + \\Delta U^T f,\n",
    "\\end{equation*}\n",
    "\n",
    "Onde, $E = 2 \\left(\\Phi^T\\Phi + \\right)\\bar{R}$ e $f = -2\\Phi^T \\left(R_s + Fx(k_i) \\right)$. O termo $f$ varia a cada instante, uma vez que depende dos estados observados. O termo $E$ é constante.\n",
    "\n",
    "\\begin{equation}\n",
    "    \\left[\\begin{array}{ccc}\n",
    "    1 & 0 & 0 \\\\\n",
    "    -1 & 0 & 0\n",
    "    \\end{array}\\right]\\left[\\begin{array}{c}\n",
    "    \\Delta u\\left(k_i\\right) \\\\\n",
    "    \\Delta u\\left(k_i+1\\right) \\\\\n",
    "    \\Delta u\\left(k_i+2\\right)\n",
    "    \\end{array}\\right] \\leq\\left[\\begin{array}{l}\n",
    "    3.0000 \\\\\n",
    "    1.5000\n",
    "    \\end{array}\\right]\n",
    "\\end{equation}"
   ]
  },
  {
   "cell_type": "markdown",
   "id": "62534ae0",
   "metadata": {},
   "source": [
    "### Obtendo o sistema em espaço de estado discreto\n",
    "\n",
    "Será utilizado a função *cont2discrete* do pacote de sinais do *scipy* para obter o sistema em espaço de estados discretos. \n",
    "A função recebe o sistema em espaço de estados contínuo, o intervalo de amostragem e o método de discretização, o *Zero-Order Hold* (ZoH) é método padrão. \n",
    "\n",
    "A função *tf2ss* retorna as matrizes do sistema em espaço de estado na forma canônica controlável a partir do polinômio característico do numerador e denominador."
   ]
  },
  {
   "cell_type": "code",
   "execution_count": 140,
   "id": "157c442a",
   "metadata": {},
   "outputs": [
    {
     "data": {
      "text/markdown": [
       "**Ad:**\n",
       "\n",
       "```\n",
       "0.9752 | -0.2970\n",
       "0.0990 | 0.9851\n",
       "```"
      ],
      "text/plain": [
       "<IPython.core.display.Markdown object>"
      ]
     },
     "metadata": {},
     "output_type": "display_data"
    },
    {
     "data": {
      "text/markdown": [
       "**Bd:**\n",
       "\n",
       "```\n",
       "0.0990\n",
       "0.0050\n",
       "```"
      ],
      "text/plain": [
       "<IPython.core.display.Markdown object>"
      ]
     },
     "metadata": {},
     "output_type": "display_data"
    },
    {
     "data": {
      "text/markdown": [
       "**Cd:**\n",
       "\n",
       "```\n",
       "0.0000 | 1.0000\n",
       "```"
      ],
      "text/plain": [
       "<IPython.core.display.Markdown object>"
      ]
     },
     "metadata": {},
     "output_type": "display_data"
    },
    {
     "data": {
      "text/markdown": [
       "**Dd:**\n",
       "\n",
       "```\n",
       "0.0000\n",
       "```"
      ],
      "text/plain": [
       "<IPython.core.display.Markdown object>"
      ]
     },
     "metadata": {},
     "output_type": "display_data"
    }
   ],
   "source": [
    "from scipy.signal import tf2ss, cont2discrete, TransferFunction\n",
    "from mpc import augmented_system, compute_FPhi, mpc_gains\n",
    "from matplotlib.pyplot import plot, legend, xlabel, ylabel, figure, title, tight_layout, step, contour, contourf, axhline, axvline, xlim, ylim, text, gca\n",
    "\n",
    "Ac, Bc, Cc, Dc = tf2ss([1], [1, 0.1, 3])\n",
    "Ad, Bd, Cd, Dd, _ = cont2discrete((Ac, Bc, Cc, Dc), dt=0.1, method='zoh')\n",
    "\n",
    "\n",
    "print_matrix(\"Ad\", Ad)\n",
    "print_matrix(\"Bd\", Bd)\n",
    "print_matrix(\"Cd\", Cd)\n",
    "print_matrix(\"Dd\", Dd)"
   ]
  },
  {
   "cell_type": "markdown",
   "id": "e474c4a4",
   "metadata": {},
   "source": [
    "### Modelo aumentado do sistema"
   ]
  },
  {
   "cell_type": "code",
   "execution_count": 141,
   "id": "cbf5be23",
   "metadata": {},
   "outputs": [
    {
     "data": {
      "text/markdown": [
       "**ϕ'F:**\n",
       "\n",
       "```\n",
       "4.4476 | 7.8433 | 1.5925\n",
       "3.5736 | 6.1223 | 1.2175\n",
       "2.7623 | 4.5881 | 0.8974\n",
       "```"
      ],
      "text/plain": [
       "<IPython.core.display.Markdown object>"
      ]
     },
     "metadata": {},
     "output_type": "display_data"
    },
    {
     "data": {
      "text/markdown": [
       "**ϕ'ϕ:**\n",
       "\n",
       "```\n",
       "0.4055 | 0.3267 | 0.2533\n",
       "0.3267 | 0.2649 | 0.2067\n",
       "0.2533 | 0.2067 | 0.1624\n",
       "```"
      ],
      "text/plain": [
       "<IPython.core.display.Markdown object>"
      ]
     },
     "metadata": {},
     "output_type": "display_data"
    }
   ],
   "source": [
    "N_p = 10\n",
    "N_c = 3\n",
    "r_w = 0.01\n",
    "\n",
    "A, B, C = augmented_system(Ad, Bd, Cd)\n",
    "F, Phi = compute_FPhi(A, B, C, N_p=N_p, N_c=N_c)\n",
    "\n",
    "Ky, Kx = mpc_gains(A, B, C, N_p=N_p, N_c=N_c, r_w=r_w)\n",
    "\n",
    "print_matrix(\"ϕ'F\", Phi.T @ F)\n",
    "print_matrix(\"ϕ'ϕ\", Phi.T @ Phi)"
   ]
  },
  {
   "cell_type": "markdown",
   "id": "c8005da1",
   "metadata": {},
   "source": [
    "### Simulação com restrições\n",
    "\n",
    "\n",
    "Observamos que o termo $E = 2(\\Phi^T\\Phi + \\bar R)$ é constante, desde que o parâmetros do projeto $r_w$ seja estático. Já $F = -2\\Phi^T(R_s - Fx(k_i))$ têm dois termos que variam em termos $k$, sendo que o $R_s$ pode variar para seguir uma outra referência, e x(k) varia desde que o sistema não encontre-se em regime estacionário.\n",
    "\n",
    "Daí os termos $E$, $-2\\Phi^TF$ e $-2\\Phi^T$ podem ser armazenados em memória para evitar cálculos desnecessários a cada iteração, já que esses termos não mudam."
   ]
  },
  {
   "cell_type": "code",
   "execution_count": 142,
   "id": "67c06e53",
   "metadata": {},
   "outputs": [
    {
     "data": {
      "text/plain": [
       "Text(0.5, 0, 'Instante $k$')"
      ]
     },
     "execution_count": 142,
     "metadata": {},
     "output_type": "execute_result"
    },
    {
     "data": {
      "image/png": "[encoded data removed]",
      "text/plain": [
       "<Figure size 640x480 with 1 Axes>"
      ]
     },
     "metadata": {},
     "output_type": "display_data"
    },
    {
     "data": {
      "image/png": "[encoded data removed]",
      "text/plain": [
       "<Figure size 640x480 with 1 Axes>"
      ]
     },
     "metadata": {},
     "output_type": "display_data"
    },
    {
     "data": {
      "image/png": "[encoded data removed]",
      "text/plain": [
       "<Figure size 640x480 with 1 Axes>"
      ]
     },
     "metadata": {},
     "output_type": "display_data"
    }
   ],
   "source": [
    "k_total = 60\n",
    "x1 = zeros((k_total, 3, 1)) # sem restrição\n",
    "x2 = zeros((k_total, 3, 1)) # com restrições\n",
    "Delta_u1 = zeros((k_total, 1))\n",
    "Delta_u2 = zeros((k_total, 1))\n",
    "\n",
    "r = 1 # sinal de referência (constante)\n",
    "\n",
    "# Matrizes de restrições e função de custo\n",
    "R_s = ones((N_p, 1)) * r\n",
    "R_barra = r_w*eye(N_c)\n",
    "E = 2*(Phi.T@Phi + R_barra)                # constante\n",
    "\n",
    "F_a = - 2 * Phi.T @ F                        # constante\n",
    "F_b = - 2 * Phi.T @ ones((N_p, 1)) * r # constante (neste exemplo, r(k) = 1)\n",
    "\n",
    "M = array([[1, 0, 0], [-1, 0, 0]])\n",
    "gamma = array([[3, 1.5]]).T\n",
    "\n",
    "\n",
    "\n",
    "for k in range(k_total-1):\n",
    "    Delta_u1[k] = Ky * r - Kx @ x1[k]\n",
    "    x1[k+1] = A @ x1[k] + B * Delta_u1[k]\n",
    "\n",
    "    # calculando F estrela no instante k\n",
    "    F_star = F_b - F_a @ x2[k]\n",
    "    F_star = -2 * Phi.T @ (R_s - F@x2[k])\n",
    "    opt = Ky * r - Kx @ x2[k]\n",
    "    \n",
    "    d = HildrethQP(E, F_star, M, gamma)\n",
    "\n",
    "    Delta_u2[k] = d[0]\n",
    "\n",
    "    x2[k+1] = A @ x2[k] + B * Delta_u2[k]\n",
    "\n",
    "    \n",
    "\n",
    "k = linspace(0, k_total, k_total)    \n",
    "u1 = cumsum(Delta_u1)\n",
    "u2 = cumsum(Delta_u2)\n",
    "figure()\n",
    "plot(k, x1[:,-1], label='Sem restrições')\n",
    "plot(k, x2[:,-1], label='Com restrições')\n",
    "xlabel(\"Instante $k$\")\n",
    "ylabel(\"Saída\")\n",
    "\n",
    "legend();\n",
    "\n",
    "figure()\n",
    "step(k, Delta_u1, label='Sem restrições')\n",
    "step(k, Delta_u2, label='Com restrições')\n",
    "plot([0, k_total], [3.5, 3.5] , 'k-.', alpha=0.5, label='$\\Delta u_{max}$')\n",
    "plot([0, k_total], [-1.5, -1.5] ,'k--', alpha=0.5, label='$\\Delta u_{min}$')\n",
    "xlabel(\"Instante $k$\")\n",
    "ylabel(\"$\\Delta u$\")\n",
    "legend()\n",
    "\n",
    "figure()\n",
    "step(k, u1[:], label='Sem restrições')\n",
    "step(k, u2, label='Com restrições')\n",
    "ylabel(\"Sinal de controle\")\n",
    "xlabel(\"Instante $k$\")"
   ]
  },
  {
   "cell_type": "markdown",
   "id": "34ecadab",
   "metadata": {},
   "source": [
    "### Exemplo: Restrições na variável de controle\n",
    "\n",
    "Usando o mesmo sistema do exemplo anterior, será considerado agora a restrição em $u(k)$ tal que:\n",
    "\n",
    "\\begin{equation*}\n",
    "    -3 \\leq u(k) \\leq 6\n",
    "\\end{equation*}\n",
    "\n",
    "\\begin{equation*}\n",
    "    u(k) = \\Delta u(k) + u(k - 1); \\Delta u(k) = \\left[1\\ 0\\ 0\\right]\\Delta U\n",
    "\\end{equation*}\n",
    "\n",
    "O vetor $\\Delta U$ é o parâmetro a ser otimizado. Então, as restrições de desigualdades podem ser expressas como:\n",
    "\n",
    "\\begin{equation*}\n",
    "    -3 \\leq \\Delta u(k) + u(k - 1) \\leq 6; \n",
    "\\end{equation*}\n",
    "\n",
    "Ou seja, \n",
    "\\begin{equation*}\n",
    "    \\begin{bmatrix}\n",
    "    1 & 0 & 0 \\\\ -1 & 0 & 0\n",
    "    \\end{bmatrix}\n",
    "    \\begin{bmatrix}\n",
    "        \\Delta u(k) \\\\ \\Delta u(k+1) \\\\ \\Delta u(k+2)\n",
    "    \\end{bmatrix}\n",
    "    \\leq\n",
    "    \\begin{bmatrix}\n",
    "        6 - u(k-1) \\\\ 3 + u(k-1)\n",
    "    \\end{bmatrix}\n",
    "\\end{equation*}\n",
    "\n",
    "Ou seja, a matriz de restrições varia com $k$ a medida que a variável $u$ é atualizada."
   ]
  },
  {
   "cell_type": "code",
   "execution_count": 143,
   "id": "737fd023",
   "metadata": {},
   "outputs": [
    {
     "data": {
      "text/plain": [
       "Text(0.5, 0, 'Instante $k$')"
      ]
     },
     "execution_count": 143,
     "metadata": {},
     "output_type": "execute_result"
    },
    {
     "data": {
      "image/png": "[encoded data removed]",
      "text/plain": [
       "<Figure size 640x480 with 1 Axes>"
      ]
     },
     "metadata": {},
     "output_type": "display_data"
    },
    {
     "data": {
      "image/png": "[encoded data removed]",
      "text/plain": [
       "<Figure size 640x480 with 1 Axes>"
      ]
     },
     "metadata": {},
     "output_type": "display_data"
    },
    {
     "data": {
      "image/png": "[encoded data removed]",
      "text/plain": [
       "<Figure size 640x480 with 1 Axes>"
      ]
     },
     "metadata": {},
     "output_type": "display_data"
    }
   ],
   "source": [
    "def gamma(u):\n",
    "    \"u = u[k -1]\"\n",
    "    return array([[6 - u], [3 + u]])\n",
    "\n",
    "# vetores de estados\n",
    "u3_0 = 0\n",
    "x3 = zeros((k_total, 3, 1))\n",
    "Delta_u3 = zeros((k_total, 1))\n",
    "\n",
    "# Matrizes de restrições e função de custo\n",
    "R_s = ones((N_p, 1)) * r\n",
    "R_barra = r_w*eye(N_c)\n",
    "E = 2*(Phi.T@Phi + R_barra)                  # constante\n",
    "\n",
    "F_a = 2 * Phi.T @ F                        # constante\n",
    "F_b = - 2 * Phi.T @ ones((N_p, 1)) * r # constante (neste exemplo, r(k) = 1)\n",
    "\n",
    "for ki in range(k_total - 1):\n",
    "    gamma_k = gamma(u3_0)\n",
    "    f = F_a @ x3[ki] + F_b\n",
    "    \n",
    "    DeltaU = HildrethQP(E, f, M, gamma_k)\n",
    "    Delta_u3[ki] = DeltaU[0]\n",
    "    u3_0 += DeltaU[0,0]\n",
    "    \n",
    "    x3[ki+1] = A @ x3[ki] + B * Delta_u3[ki]\n",
    "\n",
    "\n",
    "figure()\n",
    "plot(k, x1[:,-1], label='Sem restrições')\n",
    "plot(k, x3[:,-1], label='Com restrições')\n",
    "xlabel(\"Instante $k$\")\n",
    "ylabel(\"Saída\")\n",
    "\n",
    "legend();\n",
    "\n",
    "figure()\n",
    "step(k, Delta_u1, label='Sem restrições')\n",
    "step(k, Delta_u3, label='Com restrições')\n",
    "\n",
    "xlabel(\"Instante $k$\")\n",
    "ylabel(\"$\\Delta u$\")\n",
    "legend()\n",
    "\n",
    "figure()\n",
    "step(k, u1[:], label='Sem restrições')\n",
    "step(k, cumsum(Delta_u3), label='Com restrições')\n",
    "plot([0, k_total], [6, 6] , 'k-.', alpha=0.5, label='$u_{max}$')\n",
    "plot([0, k_total], [-3, -3] ,'k--', alpha=0.5, label='$u_{min}$')\n",
    "ylabel(\"Sinal de controle\")\n",
    "xlabel(\"Instante $k$\")\n"
   ]
  },
  {
   "cell_type": "code",
   "execution_count": 144,
   "id": "869b5dc8",
   "metadata": {},
   "outputs": [
    {
     "data": {
      "text/plain": [
       "(1,)"
      ]
     },
     "execution_count": 144,
     "metadata": {},
     "output_type": "execute_result"
    }
   ],
   "source": [
    "f[0].shape"
   ]
  },
  {
   "cell_type": "code",
   "execution_count": 145,
   "id": "5529b1d4",
   "metadata": {},
   "outputs": [
    {
     "data": {
      "text/plain": [
       "()"
      ]
     },
     "execution_count": 145,
     "metadata": {},
     "output_type": "execute_result"
    }
   ],
   "source": [
    "E[0,0].shape"
   ]
  },
  {
   "cell_type": "code",
   "execution_count": 146,
   "id": "9be1e8f1",
   "metadata": {},
   "outputs": [
    {
     "data": {
      "text/plain": [
       "(3, 1)"
      ]
     },
     "execution_count": 146,
     "metadata": {},
     "output_type": "execute_result"
    }
   ],
   "source": [
    "f.shape"
   ]
  }
 ],
 "metadata": {
  "kernelspec": {
   "display_name": "Python 3",
   "language": "python",
   "name": "python3"
  },
  "language_info": {
   "codemirror_mode": {
    "name": "ipython",
    "version": 3
   },
   "file_extension": ".py",
   "mimetype": "text/x-python",
   "name": "python",
   "nbconvert_exporter": "python",
   "pygments_lexer": "ipython3",
   "version": "3.10.4"
  }
 },
 "nbformat": 4,
 "nbformat_minor": 5
}
